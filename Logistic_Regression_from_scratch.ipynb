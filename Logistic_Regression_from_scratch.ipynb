{
 "cells": [
  {
   "cell_type": "code",
   "execution_count": 1,
   "metadata": {
    "_cell_guid": "b1076dfc-b9ad-4769-8c92-a6c4dae69d19",
    "_uuid": "8f2839f25d086af736a60e9eeb907d3b93b6e0e5"
   },
   "outputs": [
    {
     "name": "stdout",
     "output_type": "stream",
     "text": [
      "/kaggle/input/mines-vs-rocks/sonar.all-data.csv\n"
     ]
    }
   ],
   "source": [
    "# This Python 3 environment comes with many helpful analytics libraries installed\n",
    "# It is defined by the kaggle/python docker image: https://github.com/kaggle/docker-python\n",
    "# For example, here's several helpful packages to load in \n",
    "\n",
    "import numpy as np # linear algebra\n",
    "import pandas as pd # data processing, CSV file I/O (e.g. pd.read_csv)\n",
    "\n",
    "# Input data files are available in the \"../input/\" directory.\n",
    "# For example, running this (by clicking run or pressing Shift+Enter) will list all files under the input directory\n",
    "\n",
    "import os\n",
    "for dirname, _, filenames in os.walk('/kaggle/input'):\n",
    "    for filename in filenames:\n",
    "        print(os.path.join(dirname, filename))\n",
    "\n",
    "# Any results you write to the current directory are saved as output."
   ]
  },
  {
   "cell_type": "markdown",
   "metadata": {},
   "source": [
    "### Notebook content\n",
    "This notebook does not contain any preprocessing steps. <br>\n",
    "This notebook has logistic regression from scratch. <br>\n",
    "Steps to build a logistic regression model:\n",
    "    1. Initialise parameters\n",
    "    2. Compute Cost function and gradient\n",
    "    3. Apply gradient descent to optimize the parameters\n",
    "    4. Compute the final predictions\n",
    "\n",
    "Tuning of Hyperparameters except lambda (regularisation constant)\n"
   ]
  },
  {
   "cell_type": "code",
   "execution_count": 2,
   "metadata": {
    "_cell_guid": "79c7e3d0-c299-4dcb-8224-4455121ee9b0",
    "_uuid": "d629ff2d2480ee46fbb7e2d37f6b5fab8052498a"
   },
   "outputs": [],
   "source": [
    "#Reading the csv file into a dataframe\n",
    "data = pd.read_csv('../input/mines-vs-rocks/sonar.all-data.csv', header=None)"
   ]
  },
  {
   "cell_type": "code",
   "execution_count": 3,
   "metadata": {},
   "outputs": [
    {
     "data": {
      "text/html": [
       "<div>\n",
       "<style scoped>\n",
       "    .dataframe tbody tr th:only-of-type {\n",
       "        vertical-align: middle;\n",
       "    }\n",
       "\n",
       "    .dataframe tbody tr th {\n",
       "        vertical-align: top;\n",
       "    }\n",
       "\n",
       "    .dataframe thead th {\n",
       "        text-align: right;\n",
       "    }\n",
       "</style>\n",
       "<table border=\"1\" class=\"dataframe\">\n",
       "  <thead>\n",
       "    <tr style=\"text-align: right;\">\n",
       "      <th></th>\n",
       "      <th>0</th>\n",
       "      <th>1</th>\n",
       "      <th>2</th>\n",
       "      <th>3</th>\n",
       "      <th>4</th>\n",
       "      <th>5</th>\n",
       "      <th>6</th>\n",
       "      <th>7</th>\n",
       "      <th>8</th>\n",
       "      <th>9</th>\n",
       "      <th>...</th>\n",
       "      <th>51</th>\n",
       "      <th>52</th>\n",
       "      <th>53</th>\n",
       "      <th>54</th>\n",
       "      <th>55</th>\n",
       "      <th>56</th>\n",
       "      <th>57</th>\n",
       "      <th>58</th>\n",
       "      <th>59</th>\n",
       "      <th>60</th>\n",
       "    </tr>\n",
       "  </thead>\n",
       "  <tbody>\n",
       "    <tr>\n",
       "      <th>0</th>\n",
       "      <td>0.0200</td>\n",
       "      <td>0.0371</td>\n",
       "      <td>0.0428</td>\n",
       "      <td>0.0207</td>\n",
       "      <td>0.0954</td>\n",
       "      <td>0.0986</td>\n",
       "      <td>0.1539</td>\n",
       "      <td>0.1601</td>\n",
       "      <td>0.3109</td>\n",
       "      <td>0.2111</td>\n",
       "      <td>...</td>\n",
       "      <td>0.0027</td>\n",
       "      <td>0.0065</td>\n",
       "      <td>0.0159</td>\n",
       "      <td>0.0072</td>\n",
       "      <td>0.0167</td>\n",
       "      <td>0.0180</td>\n",
       "      <td>0.0084</td>\n",
       "      <td>0.0090</td>\n",
       "      <td>0.0032</td>\n",
       "      <td>R</td>\n",
       "    </tr>\n",
       "    <tr>\n",
       "      <th>1</th>\n",
       "      <td>0.0453</td>\n",
       "      <td>0.0523</td>\n",
       "      <td>0.0843</td>\n",
       "      <td>0.0689</td>\n",
       "      <td>0.1183</td>\n",
       "      <td>0.2583</td>\n",
       "      <td>0.2156</td>\n",
       "      <td>0.3481</td>\n",
       "      <td>0.3337</td>\n",
       "      <td>0.2872</td>\n",
       "      <td>...</td>\n",
       "      <td>0.0084</td>\n",
       "      <td>0.0089</td>\n",
       "      <td>0.0048</td>\n",
       "      <td>0.0094</td>\n",
       "      <td>0.0191</td>\n",
       "      <td>0.0140</td>\n",
       "      <td>0.0049</td>\n",
       "      <td>0.0052</td>\n",
       "      <td>0.0044</td>\n",
       "      <td>R</td>\n",
       "    </tr>\n",
       "    <tr>\n",
       "      <th>2</th>\n",
       "      <td>0.0262</td>\n",
       "      <td>0.0582</td>\n",
       "      <td>0.1099</td>\n",
       "      <td>0.1083</td>\n",
       "      <td>0.0974</td>\n",
       "      <td>0.2280</td>\n",
       "      <td>0.2431</td>\n",
       "      <td>0.3771</td>\n",
       "      <td>0.5598</td>\n",
       "      <td>0.6194</td>\n",
       "      <td>...</td>\n",
       "      <td>0.0232</td>\n",
       "      <td>0.0166</td>\n",
       "      <td>0.0095</td>\n",
       "      <td>0.0180</td>\n",
       "      <td>0.0244</td>\n",
       "      <td>0.0316</td>\n",
       "      <td>0.0164</td>\n",
       "      <td>0.0095</td>\n",
       "      <td>0.0078</td>\n",
       "      <td>R</td>\n",
       "    </tr>\n",
       "    <tr>\n",
       "      <th>3</th>\n",
       "      <td>0.0100</td>\n",
       "      <td>0.0171</td>\n",
       "      <td>0.0623</td>\n",
       "      <td>0.0205</td>\n",
       "      <td>0.0205</td>\n",
       "      <td>0.0368</td>\n",
       "      <td>0.1098</td>\n",
       "      <td>0.1276</td>\n",
       "      <td>0.0598</td>\n",
       "      <td>0.1264</td>\n",
       "      <td>...</td>\n",
       "      <td>0.0121</td>\n",
       "      <td>0.0036</td>\n",
       "      <td>0.0150</td>\n",
       "      <td>0.0085</td>\n",
       "      <td>0.0073</td>\n",
       "      <td>0.0050</td>\n",
       "      <td>0.0044</td>\n",
       "      <td>0.0040</td>\n",
       "      <td>0.0117</td>\n",
       "      <td>R</td>\n",
       "    </tr>\n",
       "    <tr>\n",
       "      <th>4</th>\n",
       "      <td>0.0762</td>\n",
       "      <td>0.0666</td>\n",
       "      <td>0.0481</td>\n",
       "      <td>0.0394</td>\n",
       "      <td>0.0590</td>\n",
       "      <td>0.0649</td>\n",
       "      <td>0.1209</td>\n",
       "      <td>0.2467</td>\n",
       "      <td>0.3564</td>\n",
       "      <td>0.4459</td>\n",
       "      <td>...</td>\n",
       "      <td>0.0031</td>\n",
       "      <td>0.0054</td>\n",
       "      <td>0.0105</td>\n",
       "      <td>0.0110</td>\n",
       "      <td>0.0015</td>\n",
       "      <td>0.0072</td>\n",
       "      <td>0.0048</td>\n",
       "      <td>0.0107</td>\n",
       "      <td>0.0094</td>\n",
       "      <td>R</td>\n",
       "    </tr>\n",
       "  </tbody>\n",
       "</table>\n",
       "<p>5 rows × 61 columns</p>\n",
       "</div>"
      ],
      "text/plain": [
       "       0       1       2       3       4       5       6       7       8   \\\n",
       "0  0.0200  0.0371  0.0428  0.0207  0.0954  0.0986  0.1539  0.1601  0.3109   \n",
       "1  0.0453  0.0523  0.0843  0.0689  0.1183  0.2583  0.2156  0.3481  0.3337   \n",
       "2  0.0262  0.0582  0.1099  0.1083  0.0974  0.2280  0.2431  0.3771  0.5598   \n",
       "3  0.0100  0.0171  0.0623  0.0205  0.0205  0.0368  0.1098  0.1276  0.0598   \n",
       "4  0.0762  0.0666  0.0481  0.0394  0.0590  0.0649  0.1209  0.2467  0.3564   \n",
       "\n",
       "       9   ...      51      52      53      54      55      56      57  \\\n",
       "0  0.2111  ...  0.0027  0.0065  0.0159  0.0072  0.0167  0.0180  0.0084   \n",
       "1  0.2872  ...  0.0084  0.0089  0.0048  0.0094  0.0191  0.0140  0.0049   \n",
       "2  0.6194  ...  0.0232  0.0166  0.0095  0.0180  0.0244  0.0316  0.0164   \n",
       "3  0.1264  ...  0.0121  0.0036  0.0150  0.0085  0.0073  0.0050  0.0044   \n",
       "4  0.4459  ...  0.0031  0.0054  0.0105  0.0110  0.0015  0.0072  0.0048   \n",
       "\n",
       "       58      59  60  \n",
       "0  0.0090  0.0032   R  \n",
       "1  0.0052  0.0044   R  \n",
       "2  0.0095  0.0078   R  \n",
       "3  0.0040  0.0117   R  \n",
       "4  0.0107  0.0094   R  \n",
       "\n",
       "[5 rows x 61 columns]"
      ]
     },
     "execution_count": 3,
     "metadata": {},
     "output_type": "execute_result"
    }
   ],
   "source": [
    "# View the top five rows of the data\n",
    "data.head()"
   ]
  },
  {
   "cell_type": "code",
   "execution_count": 4,
   "metadata": {},
   "outputs": [],
   "source": [
    "X = data.drop(60, axis=1)"
   ]
  },
  {
   "cell_type": "code",
   "execution_count": 5,
   "metadata": {},
   "outputs": [
    {
     "name": "stdout",
     "output_type": "stream",
     "text": [
      "(208, 60)\n"
     ]
    },
    {
     "data": {
      "text/html": [
       "<div>\n",
       "<style scoped>\n",
       "    .dataframe tbody tr th:only-of-type {\n",
       "        vertical-align: middle;\n",
       "    }\n",
       "\n",
       "    .dataframe tbody tr th {\n",
       "        vertical-align: top;\n",
       "    }\n",
       "\n",
       "    .dataframe thead th {\n",
       "        text-align: right;\n",
       "    }\n",
       "</style>\n",
       "<table border=\"1\" class=\"dataframe\">\n",
       "  <thead>\n",
       "    <tr style=\"text-align: right;\">\n",
       "      <th></th>\n",
       "      <th>0</th>\n",
       "      <th>1</th>\n",
       "      <th>2</th>\n",
       "      <th>3</th>\n",
       "      <th>4</th>\n",
       "      <th>5</th>\n",
       "      <th>6</th>\n",
       "      <th>7</th>\n",
       "      <th>8</th>\n",
       "      <th>9</th>\n",
       "      <th>...</th>\n",
       "      <th>50</th>\n",
       "      <th>51</th>\n",
       "      <th>52</th>\n",
       "      <th>53</th>\n",
       "      <th>54</th>\n",
       "      <th>55</th>\n",
       "      <th>56</th>\n",
       "      <th>57</th>\n",
       "      <th>58</th>\n",
       "      <th>59</th>\n",
       "    </tr>\n",
       "  </thead>\n",
       "  <tbody>\n",
       "    <tr>\n",
       "      <th>0</th>\n",
       "      <td>0.0200</td>\n",
       "      <td>0.0371</td>\n",
       "      <td>0.0428</td>\n",
       "      <td>0.0207</td>\n",
       "      <td>0.0954</td>\n",
       "      <td>0.0986</td>\n",
       "      <td>0.1539</td>\n",
       "      <td>0.1601</td>\n",
       "      <td>0.3109</td>\n",
       "      <td>0.2111</td>\n",
       "      <td>...</td>\n",
       "      <td>0.0232</td>\n",
       "      <td>0.0027</td>\n",
       "      <td>0.0065</td>\n",
       "      <td>0.0159</td>\n",
       "      <td>0.0072</td>\n",
       "      <td>0.0167</td>\n",
       "      <td>0.0180</td>\n",
       "      <td>0.0084</td>\n",
       "      <td>0.0090</td>\n",
       "      <td>0.0032</td>\n",
       "    </tr>\n",
       "    <tr>\n",
       "      <th>1</th>\n",
       "      <td>0.0453</td>\n",
       "      <td>0.0523</td>\n",
       "      <td>0.0843</td>\n",
       "      <td>0.0689</td>\n",
       "      <td>0.1183</td>\n",
       "      <td>0.2583</td>\n",
       "      <td>0.2156</td>\n",
       "      <td>0.3481</td>\n",
       "      <td>0.3337</td>\n",
       "      <td>0.2872</td>\n",
       "      <td>...</td>\n",
       "      <td>0.0125</td>\n",
       "      <td>0.0084</td>\n",
       "      <td>0.0089</td>\n",
       "      <td>0.0048</td>\n",
       "      <td>0.0094</td>\n",
       "      <td>0.0191</td>\n",
       "      <td>0.0140</td>\n",
       "      <td>0.0049</td>\n",
       "      <td>0.0052</td>\n",
       "      <td>0.0044</td>\n",
       "    </tr>\n",
       "    <tr>\n",
       "      <th>2</th>\n",
       "      <td>0.0262</td>\n",
       "      <td>0.0582</td>\n",
       "      <td>0.1099</td>\n",
       "      <td>0.1083</td>\n",
       "      <td>0.0974</td>\n",
       "      <td>0.2280</td>\n",
       "      <td>0.2431</td>\n",
       "      <td>0.3771</td>\n",
       "      <td>0.5598</td>\n",
       "      <td>0.6194</td>\n",
       "      <td>...</td>\n",
       "      <td>0.0033</td>\n",
       "      <td>0.0232</td>\n",
       "      <td>0.0166</td>\n",
       "      <td>0.0095</td>\n",
       "      <td>0.0180</td>\n",
       "      <td>0.0244</td>\n",
       "      <td>0.0316</td>\n",
       "      <td>0.0164</td>\n",
       "      <td>0.0095</td>\n",
       "      <td>0.0078</td>\n",
       "    </tr>\n",
       "    <tr>\n",
       "      <th>3</th>\n",
       "      <td>0.0100</td>\n",
       "      <td>0.0171</td>\n",
       "      <td>0.0623</td>\n",
       "      <td>0.0205</td>\n",
       "      <td>0.0205</td>\n",
       "      <td>0.0368</td>\n",
       "      <td>0.1098</td>\n",
       "      <td>0.1276</td>\n",
       "      <td>0.0598</td>\n",
       "      <td>0.1264</td>\n",
       "      <td>...</td>\n",
       "      <td>0.0241</td>\n",
       "      <td>0.0121</td>\n",
       "      <td>0.0036</td>\n",
       "      <td>0.0150</td>\n",
       "      <td>0.0085</td>\n",
       "      <td>0.0073</td>\n",
       "      <td>0.0050</td>\n",
       "      <td>0.0044</td>\n",
       "      <td>0.0040</td>\n",
       "      <td>0.0117</td>\n",
       "    </tr>\n",
       "    <tr>\n",
       "      <th>4</th>\n",
       "      <td>0.0762</td>\n",
       "      <td>0.0666</td>\n",
       "      <td>0.0481</td>\n",
       "      <td>0.0394</td>\n",
       "      <td>0.0590</td>\n",
       "      <td>0.0649</td>\n",
       "      <td>0.1209</td>\n",
       "      <td>0.2467</td>\n",
       "      <td>0.3564</td>\n",
       "      <td>0.4459</td>\n",
       "      <td>...</td>\n",
       "      <td>0.0156</td>\n",
       "      <td>0.0031</td>\n",
       "      <td>0.0054</td>\n",
       "      <td>0.0105</td>\n",
       "      <td>0.0110</td>\n",
       "      <td>0.0015</td>\n",
       "      <td>0.0072</td>\n",
       "      <td>0.0048</td>\n",
       "      <td>0.0107</td>\n",
       "      <td>0.0094</td>\n",
       "    </tr>\n",
       "  </tbody>\n",
       "</table>\n",
       "<p>5 rows × 60 columns</p>\n",
       "</div>"
      ],
      "text/plain": [
       "       0       1       2       3       4       5       6       7       8   \\\n",
       "0  0.0200  0.0371  0.0428  0.0207  0.0954  0.0986  0.1539  0.1601  0.3109   \n",
       "1  0.0453  0.0523  0.0843  0.0689  0.1183  0.2583  0.2156  0.3481  0.3337   \n",
       "2  0.0262  0.0582  0.1099  0.1083  0.0974  0.2280  0.2431  0.3771  0.5598   \n",
       "3  0.0100  0.0171  0.0623  0.0205  0.0205  0.0368  0.1098  0.1276  0.0598   \n",
       "4  0.0762  0.0666  0.0481  0.0394  0.0590  0.0649  0.1209  0.2467  0.3564   \n",
       "\n",
       "       9   ...      50      51      52      53      54      55      56  \\\n",
       "0  0.2111  ...  0.0232  0.0027  0.0065  0.0159  0.0072  0.0167  0.0180   \n",
       "1  0.2872  ...  0.0125  0.0084  0.0089  0.0048  0.0094  0.0191  0.0140   \n",
       "2  0.6194  ...  0.0033  0.0232  0.0166  0.0095  0.0180  0.0244  0.0316   \n",
       "3  0.1264  ...  0.0241  0.0121  0.0036  0.0150  0.0085  0.0073  0.0050   \n",
       "4  0.4459  ...  0.0156  0.0031  0.0054  0.0105  0.0110  0.0015  0.0072   \n",
       "\n",
       "       57      58      59  \n",
       "0  0.0084  0.0090  0.0032  \n",
       "1  0.0049  0.0052  0.0044  \n",
       "2  0.0164  0.0095  0.0078  \n",
       "3  0.0044  0.0040  0.0117  \n",
       "4  0.0048  0.0107  0.0094  \n",
       "\n",
       "[5 rows x 60 columns]"
      ]
     },
     "execution_count": 5,
     "metadata": {},
     "output_type": "execute_result"
    }
   ],
   "source": [
    "print(X.shape)\n",
    "X.head()"
   ]
  },
  {
   "cell_type": "code",
   "execution_count": 6,
   "metadata": {},
   "outputs": [
    {
     "name": "stdout",
     "output_type": "stream",
     "text": [
      "0    R\n",
      "1    R\n",
      "2    R\n",
      "3    R\n",
      "4    R\n",
      "Name: 60, dtype: object\n"
     ]
    }
   ],
   "source": [
    "Y = data[60]\n",
    "print(Y.head())\n",
    "Y.replace({'R':0, 'M':1}, inplace=True)"
   ]
  },
  {
   "cell_type": "code",
   "execution_count": 7,
   "metadata": {},
   "outputs": [
    {
     "data": {
      "text/plain": [
       "0      0\n",
       "1      0\n",
       "2      0\n",
       "3      0\n",
       "4      0\n",
       "      ..\n",
       "203    1\n",
       "204    1\n",
       "205    1\n",
       "206    1\n",
       "207    1\n",
       "Name: 60, Length: 208, dtype: int64"
      ]
     },
     "execution_count": 7,
     "metadata": {},
     "output_type": "execute_result"
    }
   ],
   "source": [
    "Y"
   ]
  },
  {
   "cell_type": "code",
   "execution_count": 8,
   "metadata": {},
   "outputs": [],
   "source": [
    "from sklearn.model_selection import train_test_split\n",
    "X_trn, X_tst, y_trn, y_tst = train_test_split(X, Y, test_size=0.2, random_state=0)"
   ]
  },
  {
   "cell_type": "code",
   "execution_count": 9,
   "metadata": {},
   "outputs": [],
   "source": [
    "def sigmoid(x):\n",
    "    '''\n",
    "    Returns the sigmoid of x\n",
    "    '''\n",
    "    return 1/(1+np.exp(-x))"
   ]
  },
  {
   "cell_type": "code",
   "execution_count": 10,
   "metadata": {},
   "outputs": [],
   "source": [
    "def init_param(X):\n",
    "    '''\n",
    "    Args: X -> input matrix\n",
    "    Returns: a tuple of initialised parameters , w vector and b for the bias\n",
    "    '''\n",
    "    np.random.seed(0)\n",
    "    w = np.random.rand(X.shape[1])\n",
    "    b = 0\n",
    "    param = {'w': w,\n",
    "             'b': b\n",
    "            }\n",
    "    return param\n"
   ]
  },
  {
   "cell_type": "code",
   "execution_count": 11,
   "metadata": {},
   "outputs": [],
   "source": [
    "def Cost_func(X, Y, param, lamb):\n",
    "    '''\n",
    "    Computes the cost and gradient value for a given X, Y, param\n",
    "    Args:\n",
    "        X => input feautre matrix \n",
    "        Y => output array\n",
    "        param => parameters\n",
    "        lamb => regularisation constant\n",
    "    Returns: \n",
    "        J => Cost \n",
    "        grad => gradient values for w and b\n",
    "    '''\n",
    "    m = len(X)\n",
    "    prob = np.dot(param['w'], X.T) + param['b']\n",
    "    pred = sigmoid(prob)\n",
    "    \n",
    "    J = - np.sum((Y* np.log(pred)) + ((1-Y)*(np.log(1-pred))))/m\n",
    "    reg = lamb*np.sum(np.power(param['w'], 2))/(2*m)\n",
    "    J = J + reg\n",
    "    \n",
    "    dw = (1/m)* np.dot((pred - Y), X) + lamb*(param['w'])/m\n",
    "    db = (1/m)* np.sum(pred -Y)\n",
    "    \n",
    "    grad= {'dw': dw,\n",
    "           'db': db}\n",
    "    \n",
    "    return J, grad"
   ]
  },
  {
   "cell_type": "code",
   "execution_count": 12,
   "metadata": {},
   "outputs": [],
   "source": [
    "def optimize(X, Y, param, num_iter, learning_rate, lamb):\n",
    "    '''\n",
    "    Optimize the paramenter using gradient descent.\n",
    "    Args:\n",
    "        X => input feature matrix\n",
    "        Y => output array\n",
    "        param => parameters which are updated\n",
    "        num_iter => total number of itertions\n",
    "        learning_rate => learning rate to specify the step size during gradient descent\n",
    "    Returns:\n",
    "        param => updated parameters' array\n",
    "        cost => final cost        \n",
    "    '''\n",
    "    for i in range(num_iter):\n",
    "        cost, grad = Cost_func(X, Y, param, lamb)\n",
    "        param['w'] = param['w']-(learning_rate*grad['dw'])\n",
    "        param['b'] = param['b']-(learning_rate*grad['db'])\n",
    "        \n",
    "        \n",
    "    return param, cost"
   ]
  },
  {
   "cell_type": "code",
   "execution_count": 13,
   "metadata": {},
   "outputs": [],
   "source": [
    "def predict(X, param):\n",
    "    '''\n",
    "    predicts the target value, Y_pred\n",
    "    Args: X => input feature matrix,\n",
    "          param => parameter vector (w, b)\n",
    "    Returns: Array of predictions\n",
    "    '''\n",
    "    Y_pred=[]\n",
    "    prob= np.dot(param['w'], X.T) + param['b']\n",
    "    pred = sigmoid(prob)\n",
    "    for i in range(len(X)):\n",
    "        if pred[i] > 0.5:\n",
    "            Y_pred.append(1)\n",
    "        else:\n",
    "            Y_pred.append(0)\n",
    "            \n",
    "    return np.array(Y_pred).T\n",
    "        "
   ]
  },
  {
   "cell_type": "code",
   "execution_count": 14,
   "metadata": {},
   "outputs": [],
   "source": [
    "def accuracy(Y, Y_pred):\n",
    "    '''\n",
    "    Returns the accuracy for the predictions\n",
    "    '''\n",
    "    return np.sum(Y == Y_pred) / len(Y)"
   ]
  },
  {
   "cell_type": "code",
   "execution_count": 15,
   "metadata": {},
   "outputs": [],
   "source": [
    "def main(X, Y, learning_rate=0.01, num_iter=10000, lamb=0, ret_cost=False):\n",
    "    '''\n",
    "    Combining all the possible\n",
    "    Args:\n",
    "        ret_cost => Flag to return cost along with other values\n",
    "    Returns: \n",
    "        if ret_cost == False\n",
    "        param and y_pred\n",
    "        \n",
    "        else:\n",
    "        param, y_pred and final cost\n",
    "    '''\n",
    "    param = init_param(X)\n",
    "    cost, grad= Cost_func(X, Y, param, lamb)\n",
    "    param, cost_f = optimize(X, Y, param, num_iter, learning_rate, lamb)\n",
    "    \n",
    "    y_pred = predict(X, param)\n",
    "    acc = accuracy(Y, y_pred)\n",
    "    \n",
    "    print('Final_cost \\t', cost_f)\n",
    "    print('Accuracy_train \\t', acc)\n",
    "    if ret_cost:\n",
    "        return param, y_pred, cost_f\n",
    "    else:\n",
    "        return param, y_pred"
   ]
  },
  {
   "cell_type": "code",
   "execution_count": 16,
   "metadata": {},
   "outputs": [
    {
     "name": "stdout",
     "output_type": "stream",
     "text": [
      "Final_cost \t 0.5571198023157752\n",
      "Accuracy_train \t 0.7590361445783133\n",
      "Final_cost \t 0.5354779757512277\n",
      "Accuracy_train \t 0.7891566265060241\n",
      "Final_cost \t 0.5248217340526252\n",
      "Accuracy_train \t 0.7951807228915663\n",
      "Final_cost \t 0.518455096774429\n",
      "Accuracy_train \t 0.8072289156626506\n",
      "Final_cost \t 0.5143633704774635\n",
      "Accuracy_train \t 0.8192771084337349\n",
      "Final_cost \t 0.5116053068822033\n",
      "Accuracy_train \t 0.8132530120481928\n",
      "Final_cost \t 0.5096804502602928\n",
      "Accuracy_train \t 0.8253012048192772\n",
      "Final_cost \t 0.5083017225358886\n",
      "Accuracy_train \t 0.8373493975903614\n",
      "Final_cost \t 0.5072944935599797\n",
      "Accuracy_train \t 0.8373493975903614\n"
     ]
    }
   ],
   "source": [
    "import matplotlib.pyplot as plt\n",
    "cost=[]\n",
    "num=[]\n",
    "for i in range(2000, 20000, 2000):\n",
    "    cost.append(main(X_trn, y_trn, learning_rate= 0.01, num_iter=i, lamb=1, ret_cost=True)[2])\n",
    "    num.append(i)"
   ]
  },
  {
   "cell_type": "code",
   "execution_count": 17,
   "metadata": {},
   "outputs": [
    {
     "data": {
      "text/plain": [
       "<matplotlib.collections.PathCollection at 0x7fbc4a6a7b00>"
      ]
     },
     "execution_count": 17,
     "metadata": {},
     "output_type": "execute_result"
    },
    {
     "data": {
      "image/png": "[encoded data removed]",
      "text/plain": [
       "<Figure size 432x288 with 1 Axes>"
      ]
     },
     "metadata": {
      "needs_background": "light"
     },
     "output_type": "display_data"
    }
   ],
   "source": [
    "plt.title('Variation in cost with number of iterations')\n",
    "plt.xlabel('number of iterations')\n",
    "plt.ylabel('Cost')\n",
    "plt.scatter(num, cost)"
   ]
  },
  {
   "cell_type": "code",
   "execution_count": 18,
   "metadata": {},
   "outputs": [],
   "source": [
    "rate = [0.001, 0.003, 0.005, 0.009, 0.01, 0.03, 0.05, 0.09, 0.1, 0.3, 0.5]\n",
    "cst=[]"
   ]
  },
  {
   "cell_type": "code",
   "execution_count": 19,
   "metadata": {},
   "outputs": [
    {
     "name": "stdout",
     "output_type": "stream",
     "text": [
      "Learning_rate:  0.001\n",
      "Final_cost \t 0.5608337183251607\n",
      "Accuracy_train \t 0.7469879518072289\n",
      "Learning_rate:  0.003\n",
      "Final_cost \t 0.5274225810347867\n",
      "Accuracy_train \t 0.7891566265060241\n",
      "Learning_rate:  0.005\n",
      "Final_cost \t 0.5161977264062059\n",
      "Accuracy_train \t 0.8072289156626506\n",
      "Learning_rate:  0.009\n",
      "Final_cost \t 0.5081864880130169\n",
      "Accuracy_train \t 0.8373493975903614\n",
      "Learning_rate:  0.01\n",
      "Final_cost \t 0.5072944935599797\n",
      "Accuracy_train \t 0.8373493975903614\n",
      "Learning_rate:  0.03\n",
      "Final_cost \t 0.504103121701829\n",
      "Accuracy_train \t 0.8493975903614458\n",
      "Learning_rate:  0.05\n",
      "Final_cost \t 0.504028931440281\n",
      "Accuracy_train \t 0.8493975903614458\n",
      "Learning_rate:  0.09\n",
      "Final_cost \t 0.5040212064690248\n",
      "Accuracy_train \t 0.8493975903614458\n",
      "Learning_rate:  0.1\n",
      "Final_cost \t 0.5040211213485286\n",
      "Accuracy_train \t 0.8493975903614458\n",
      "Learning_rate:  0.3\n",
      "Final_cost \t 0.5040210725317927\n",
      "Accuracy_train \t 0.8493975903614458\n",
      "Learning_rate:  0.5\n",
      "Final_cost \t 0.5040210725317926\n",
      "Accuracy_train \t 0.8493975903614458\n"
     ]
    }
   ],
   "source": [
    "for r in rate:\n",
    "    print('Learning_rate: ', r)\n",
    "    cst.append(main(X_trn, y_trn, learning_rate= r, num_iter=18000, lamb=1, ret_cost=True)[2])\n",
    "    "
   ]
  },
  {
   "cell_type": "code",
   "execution_count": 20,
   "metadata": {},
   "outputs": [
    {
     "data": {
      "text/plain": [
       "[<matplotlib.lines.Line2D at 0x7fbc4a624748>]"
      ]
     },
     "execution_count": 20,
     "metadata": {},
     "output_type": "execute_result"
    },
    {
     "data": {
      "image/png": "[encoded data removed]",
      "text/plain": [
       "<Figure size 432x288 with 1 Axes>"
      ]
     },
     "metadata": {
      "needs_background": "light"
     },
     "output_type": "display_data"
    }
   ],
   "source": [
    "plt.title('Variation in Cost with Learning rate')\n",
    "plt.xlabel('Learning rate')\n",
    "plt.ylabel('Cost')\n",
    "plt.plot(rate, cst)"
   ]
  },
  {
   "cell_type": "code",
   "execution_count": 21,
   "metadata": {},
   "outputs": [],
   "source": [
    "lmd = [ 0.01, 0.1, 0.5, 1, 10, 20, 50, 100]\n",
    "cost_l = []"
   ]
  },
  {
   "cell_type": "code",
   "execution_count": 22,
   "metadata": {},
   "outputs": [
    {
     "name": "stdout",
     "output_type": "stream",
     "text": [
      "Regularisation Constatnt:  0.01\n",
      "Final_cost \t 0.30317829090926895\n",
      "Accuracy_train \t 0.8795180722891566\n",
      "Test Cost : \t 0.8333333333333334\n",
      "Regularisation Constatnt:  0.1\n",
      "Final_cost \t 0.39146463553041627\n",
      "Accuracy_train \t 0.8795180722891566\n",
      "Test Cost : \t 0.8333333333333334\n",
      "Regularisation Constatnt:  0.5\n",
      "Final_cost \t 0.46682445773157244\n",
      "Accuracy_train \t 0.8493975903614458\n",
      "Test Cost : \t 0.8571428571428571\n",
      "Regularisation Constatnt:  1\n",
      "Final_cost \t 0.5040210725317926\n",
      "Accuracy_train \t 0.8493975903614458\n",
      "Test Cost : \t 0.8333333333333334\n",
      "Regularisation Constatnt:  10\n",
      "Final_cost \t 0.6256885961093586\n",
      "Accuracy_train \t 0.7228915662650602\n",
      "Test Cost : \t 0.6904761904761905\n",
      "Regularisation Constatnt:  20\n",
      "Final_cost \t 0.6500725138150747\n",
      "Accuracy_train \t 0.6987951807228916\n",
      "Test Cost : \t 0.6428571428571429\n",
      "Regularisation Constatnt:  50\n",
      "Final_cost \t 0.670594064964691\n",
      "Accuracy_train \t 0.6626506024096386\n",
      "Test Cost : \t 0.6190476190476191\n",
      "Regularisation Constatnt:  100\n",
      "Final_cost \t 0.6792917406149301\n",
      "Accuracy_train \t 0.5783132530120482\n",
      "Test Cost : \t 0.5238095238095238\n"
     ]
    }
   ],
   "source": [
    "for l in lmd:\n",
    "    print('Regularisation Constatnt: ', l)\n",
    "    trn_val = main(X_trn, y_trn, learning_rate= 0.5, num_iter=18000, lamb=l, ret_cost=True)\n",
    "    cost_l.append(trn_val[2])\n",
    "    p = trn_val[0]\n",
    "    pred=  predict(X_tst, p)\n",
    "    print('Test Cost : \\t', accuracy(y_tst, pred) )"
   ]
  },
  {
   "cell_type": "code",
   "execution_count": 23,
   "metadata": {},
   "outputs": [
    {
     "data": {
      "text/plain": [
       "[<matplotlib.lines.Line2D at 0x7fbc4a60b668>]"
      ]
     },
     "execution_count": 23,
     "metadata": {},
     "output_type": "execute_result"
    },
    {
     "data": {
      "image/png": "[encoded data removed]",
      "text/plain": [
       "<Figure size 432x288 with 1 Axes>"
      ]
     },
     "metadata": {
      "needs_background": "light"
     },
     "output_type": "display_data"
    }
   ],
   "source": [
    "plt.title('Variation in Cost with Regularisation Constant')\n",
    "plt.xlabel('Lambda')\n",
    "plt.ylabel('Cost')\n",
    "plt.plot(lmd, cost_l)"
   ]
  },
  {
   "cell_type": "code",
   "execution_count": 24,
   "metadata": {},
   "outputs": [
    {
     "name": "stdout",
     "output_type": "stream",
     "text": [
      "Final_cost \t 0.46682445773157244\n",
      "Accuracy_train \t 0.8493975903614458\n"
     ]
    }
   ],
   "source": [
    "param_f = main(X_trn, y_trn, learning_rate= 0.5, num_iter=18000, lamb=0.5)[0]"
   ]
  },
  {
   "cell_type": "code",
   "execution_count": 25,
   "metadata": {},
   "outputs": [],
   "source": [
    "pred= predict(X_tst, param_f)"
   ]
  },
  {
   "cell_type": "code",
   "execution_count": 26,
   "metadata": {},
   "outputs": [
    {
     "data": {
      "text/plain": [
       "0.8571428571428571"
      ]
     },
     "execution_count": 26,
     "metadata": {},
     "output_type": "execute_result"
    }
   ],
   "source": [
    "accuracy(y_tst, pred)"
   ]
  },
  {
   "cell_type": "code",
   "execution_count": null,
   "metadata": {},
   "outputs": [],
   "source": []
  }
 ],
 "metadata": {
  "kernelspec": {
   "display_name": "Python 3",
   "language": "python",
   "name": "python3"
  },
  "language_info": {
   "codemirror_mode": {
    "name": "ipython",
    "version": 3
   },
   "file_extension": ".py",
   "mimetype": "text/x-python",
   "name": "python",
   "nbconvert_exporter": "python",
   "pygments_lexer": "ipython3",
   "version": "3.6.6"
  }
 },
 "nbformat": 4,
 "nbformat_minor": 1
}
